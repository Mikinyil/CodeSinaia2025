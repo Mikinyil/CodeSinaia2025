{
 "cells": [
  {
   "cell_type": "markdown",
   "id": "4344793e",
   "metadata": {},
   "source": [
    "This notebook loads a data set of random numbers and prints various statistics."
   ]
  },
  {
   "cell_type": "code",
   "execution_count": 5,
   "id": "6eb56257",
   "metadata": {},
   "outputs": [],
   "source": [
    "from Randoms_2 import load_randoms\n",
    "import statistics"
   ]
  },
  {
   "cell_type": "markdown",
   "id": "29656d3a",
   "metadata": {},
   "source": [
    "Read the text file \"randoms_db.txt\" where each line is a random value followed by the indexes where it occurred. Note that unlike a regular py script which is running in the VSCode workspace folder, ipynb files are running in the folder where it resides. Hence the dataset file is referenced relative to that."
   ]
  },
  {
   "cell_type": "code",
   "execution_count": 6,
   "id": "4fee425f",
   "metadata": {},
   "outputs": [
    {
     "ename": "FileNotFoundError",
     "evalue": "[Errno 2] No such file or directory: 'randoms_db.txt'",
     "output_type": "error",
     "traceback": [
      "\u001b[1;31m---------------------------------------------------------------------------\u001b[0m",
      "\u001b[1;31mFileNotFoundError\u001b[0m                         Traceback (most recent call last)",
      "Cell \u001b[1;32mIn[6], line 1\u001b[0m\n\u001b[1;32m----> 1\u001b[0m randoms_map, count \u001b[38;5;241m=\u001b[39m \u001b[43mload_randoms\u001b[49m\u001b[43m(\u001b[49m\u001b[38;5;124;43m\"\u001b[39;49m\u001b[38;5;124;43mrandoms_db.txt\u001b[39;49m\u001b[38;5;124;43m\"\u001b[39;49m\u001b[43m)\u001b[49m\n\u001b[0;32m      2\u001b[0m \u001b[38;5;28mprint\u001b[39m(\u001b[38;5;124mf\u001b[39m\u001b[38;5;124m\"\u001b[39m\u001b[38;5;124mLoaded \u001b[39m\u001b[38;5;132;01m{\u001b[39;00m\u001b[38;5;28mlen\u001b[39m(randoms_map\u001b[38;5;241m.\u001b[39mkeys())\u001b[38;5;132;01m}\u001b[39;00m\u001b[38;5;124m unique random generated in a sequence of \u001b[39m\u001b[38;5;132;01m{\u001b[39;00mcount\u001b[38;5;132;01m}\u001b[39;00m\u001b[38;5;124m iterations\u001b[39m\u001b[38;5;124m\"\u001b[39m)\n",
      "File \u001b[1;32mc:\\Users\\raicu\\git\\CodeSinaia-2025\\IntroToPy\\Randoms_2.py:12\u001b[0m, in \u001b[0;36mload_randoms\u001b[1;34m(randoms_file)\u001b[0m\n\u001b[0;32m     10\u001b[0m randoms_map \u001b[38;5;241m=\u001b[39m {}\n\u001b[0;32m     11\u001b[0m count \u001b[38;5;241m=\u001b[39m \u001b[38;5;241m0\u001b[39m\n\u001b[1;32m---> 12\u001b[0m \u001b[38;5;28;01mwith\u001b[39;00m \u001b[38;5;28;43mopen\u001b[39;49m\u001b[43m(\u001b[49m\u001b[43mrandoms_file\u001b[49m\u001b[43m,\u001b[49m\u001b[43m \u001b[49m\u001b[38;5;124;43m\"\u001b[39;49m\u001b[38;5;124;43mr\u001b[39;49m\u001b[38;5;124;43m\"\u001b[39;49m\u001b[43m)\u001b[49m \u001b[38;5;28;01mas\u001b[39;00m data_file:\n\u001b[0;32m     13\u001b[0m     \u001b[38;5;28;01mfor\u001b[39;00m line \u001b[38;5;129;01min\u001b[39;00m data_file\u001b[38;5;241m.\u001b[39mreadlines():\n\u001b[0;32m     14\u001b[0m         line_parts \u001b[38;5;241m=\u001b[39m line\u001b[38;5;241m.\u001b[39msplit(\u001b[38;5;124m\"\u001b[39m\u001b[38;5;124m \u001b[39m\u001b[38;5;124m\"\u001b[39m, \u001b[38;5;241m1\u001b[39m)\n",
      "\u001b[1;31mFileNotFoundError\u001b[0m: [Errno 2] No such file or directory: 'randoms_db.txt'"
     ]
    }
   ],
   "source": [
    "randoms_map, count = load_randoms(\"randoms_db.txt\")\n",
    "print(f\"Loaded {len(randoms_map.keys())} unique random generated in a sequence of {count} iterations\")"
   ]
  },
  {
   "cell_type": "markdown",
   "id": "3796d55f",
   "metadata": {},
   "source": [
    "Print a few statistics: min, max random values,  mean, median(aka average) and standard deviation (aka stdev) of the sequence."
   ]
  },
  {
   "cell_type": "code",
   "execution_count": null,
   "id": "864b67fa",
   "metadata": {},
   "outputs": [],
   "source": [
    "print(f\"Count of unique randoms: {len(randoms_map.keys())}\")\n",
    "sorted_randoms = sorted(randoms_map.keys())\n",
    "print(f\"Min random: {sorted_randoms[0]}; Max random: {sorted_randoms[-1]}\")\n",
    "print(f\"Mean of the sequence: {statistics.mean(randoms_map.keys())}\")\n",
    "print(f\"Median of the sequence: {statistics.median(randoms_map.keys())}\")\n",
    "print(f\"Standard Deviation of the sequence: {statistics.stdev(sorted_randoms)}\")"
   ]
  },
  {
   "cell_type": "markdown",
   "id": "39ce53eb",
   "metadata": {},
   "source": [
    "Read from the input the desired topN count of most frequent randoms that should be printed.\n",
    "Then, store in an array all the randoms along with their individual count. Each entry in the array is an object with two fields:\n",
    "- _value_: the random value\n",
    "- _count_: the value's frequency or count of occurrences in the sequence. \n",
    "In the end the array is sorted in the descending order of each object's _count_ value and the first topN are printed out."
   ]
  },
  {
   "cell_type": "code",
   "execution_count": null,
   "id": "7aeb2cbc",
   "metadata": {},
   "outputs": [],
   "source": [
    "topN = int(input(\"Count of most frequent numbers?> \"))\n",
    "randoms_array = []\n",
    "for random_value in randoms_map.keys():\n",
    "    randoms_array.append({\"value\" : random_value, \"count\" : len(randoms_map[random_value])}) \n",
    "randoms_array.sort(key=lambda x: x[\"count\"], reverse=True)"
   ]
  },
  {
   "cell_type": "markdown",
   "id": "cfe877da",
   "metadata": {},
   "source": [
    "Use a lambda expresion to map the first _topN_ objects from the sorted array to a string showing a random value and the count of its occurrences in the sequence. \n",
    "Join these strings together, each a new line, then print the resulting text."
   ]
  },
  {
   "cell_type": "code",
   "execution_count": null,
   "id": "c4aceec9",
   "metadata": {},
   "outputs": [],
   "source": [
    "lines = [\n",
    "    f'random {r[\"value\"]} occurred {r[\"count\"]} times'\n",
    "    for r in randoms_array[:topN]\n",
    "]\n",
    "print(\"\\n\".join(lines))"
   ]
  }
 ],
 "metadata": {
  "kernelspec": {
   "display_name": "Python 3",
   "language": "python",
   "name": "python3"
  },
  "language_info": {
   "codemirror_mode": {
    "name": "ipython",
    "version": 3
   },
   "file_extension": ".py",
   "mimetype": "text/x-python",
   "name": "python",
   "nbconvert_exporter": "python",
   "pygments_lexer": "ipython3",
   "version": "3.8.10"
  }
 },
 "nbformat": 4,
 "nbformat_minor": 5
}
